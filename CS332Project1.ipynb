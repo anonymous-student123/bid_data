{
  "nbformat": 4,
  "nbformat_minor": 0,
  "metadata": {
    "colab": {
      "provenance": []
    },
    "kernelspec": {
      "name": "python3",
      "display_name": "Python 3"
    },
    "language_info": {
      "name": "python"
    }
  },
  "cells": [
    {
      "cell_type": "markdown",
      "source": [
        "# **Project 1**"
      ],
      "metadata": {
        "id": "Wzk8pycH-0Te"
      }
    },
    {
      "cell_type": "markdown",
      "source": [
        "# Loading data, importing libraries"
      ],
      "metadata": {
        "id": "Dpem3j9yB7Pl"
      }
    },
    {
      "cell_type": "code",
      "execution_count": 229,
      "metadata": {
        "id": "r96WVNo6-qOH"
      },
      "outputs": [],
      "source": [
        "import pandas as pd\n",
        "import numpy as np\n",
        "import scipy as sp\n",
        "from scipy import optimize\n",
        "from numpy import random\n",
        "import random\n",
        "import math\n",
        "n = 1000\n",
        "url = 'https://raw.githubusercontent.com/anonymous-student123/bid_data/main/bid_data.csv'\n",
        "df = pd.read_csv(url)"
      ]
    },
    {
      "cell_type": "markdown",
      "source": [
        "Calculating probabilities with uniform distrubtion\n"
      ],
      "metadata": {
        "id": "y2r1QAJNEFvz"
      }
    },
    {
      "cell_type": "code",
      "source": [
        "values = np.array([10*v for v in range(1,11)])\n",
        "c_bids = np.array([5, 10, 15, 20, 25, 30, 35, 40, 45, 50])\n",
        "a_bids = np.array([0.01, 10.01, 20.01, 30.01, 40.01, 50.01, 60.01, 70.01, 70.02, 80.02])\n",
        "test_bids = [0 for i in range(10)]\n",
        "\n",
        "# removing our bids\n",
        "df_c = df.drop(index=1)\n",
        "df_a = df.drop(index=37)\n",
        "\n",
        "def calculate_prob_and_utility(p,x=None,i=None, sample = None, mc_bids = None):\n",
        "  probability_arr_c = []\n",
        "  probability_arr_a = []\n",
        "  probability_arr_test = []\n",
        "  probability_arr_MC = []\n",
        "\n",
        "  if p == 'c':\n",
        "    df_s = df_c\n",
        "    own_bids = c_bids\n",
        "    probability_arr = probability_arr_c\n",
        "  if p == 'a':\n",
        "    df_s = df_a\n",
        "    own_bids = a_bids\n",
        "    probability_arr = probability_arr_a\n",
        "  if p == 'test':\n",
        "    df_s = df\n",
        "    own_bids = test_bids\n",
        "    own_bids[i] = x\n",
        "    probability_arr = probability_arr_test\n",
        "  if p == 'algorithm':\n",
        "    df_s = sample\n",
        "    own_bids = test_bids\n",
        "    own_bids[i] = x\n",
        "    probability_arr = probability_arr_test\n",
        "  if p == 'algorithm-monte-carlo':\n",
        "    df_s = df\n",
        "    own_bids = mc_bids\n",
        "    probability_arr = probability_arr_MC\n",
        "\n",
        "  # variable for potentially won bets\n",
        "  total_won = 0\n",
        "\n",
        "  for i in range(10):\n",
        "    # our bid\n",
        "    bid = own_bids[i]\n",
        "\n",
        "    # DF of bools, true being bids we win against\n",
        "    win = (df_s < bid)\n",
        "\n",
        "    # DF of bools, true being bids we tie against\n",
        "    tie = (df_s == bid)\n",
        "\n",
        "    # now we simply divide favorable outcomes by total outcomes because the\n",
        "    # distribution is uniform: any other student's value and bid is equally likely\n",
        "    # note that we halve the number of \"favorable\" events in the case of ties\n",
        "    # to account for the coin flip deciding the outcome.\n",
        "    favorable = win.to_numpy().sum() + 0.5 * tie.to_numpy().sum()\n",
        "    probability = favorable / win.size\n",
        "\n",
        "    total_won += favorable\n",
        "\n",
        "    # array for probabilities\n",
        "    probability_arr.append(probability)\n",
        "\n",
        "  # now we just take the dot product of each probability of win\n",
        "  prob_win = total_won / (df_s.size * 10)\n",
        "  utility = np.dot(np.array(probability_arr), values - own_bids) / 10\n",
        "  return prob_win, utility, probability_arr, np.multiply(np.array(probability_arr), values - own_bids)\n",
        "\n",
        "prob_win_c, utility_c, prob_arr_c, utility_per_value_c = calculate_prob_and_utility('c')\n",
        "prob_win_a, utility_a, prob_arr_a, utility_per_value_a = calculate_prob_and_utility('a')\n",
        "\n",
        "print(\"Probability C overall wins a bet: \", prob_win_c)\n",
        "print(\"C's expected utility: \", utility_c)\n",
        "print(\"C's bid winning probability per value: \", prob_arr_c)\n",
        "print(\"C's expected utility per value: \", utility_per_value_c)\n",
        "print(\"------------\")\n",
        "print(\"Probability A overall wins a bet: \", prob_win_a)\n",
        "print(\"A's expected utility\", utility_a)\n",
        "print(\"A's bid winning probability per value: \", prob_arr_a)\n",
        "print(\"A's expected utility per value: \", utility_per_value_a)"
      ],
      "metadata": {
        "colab": {
          "base_uri": "https://localhost:8080/"
        },
        "id": "L7VQB-3ODhl7",
        "outputId": "1f895771-5db7-44ce-b0c3-f1b0395b32a3"
      },
      "execution_count": 230,
      "outputs": [
        {
          "output_type": "stream",
          "name": "stdout",
          "text": [
            "Probability C overall wins a bet:  0.3464634146341463\n",
            "C's expected utility:  12.240853658536585\n",
            "C's bid winning probability per value:  [0.025609756097560974, 0.10975609756097561, 0.20243902439024392, 0.2548780487804878, 0.3280487804878049, 0.37926829268292683, 0.45365853658536587, 0.5060975609756098, 0.5792682926829268, 0.625609756097561]\n",
            "C's expected utility per value:  [ 0.12804878  1.09756098  3.03658537  5.09756098  8.20121951 11.37804878\n",
            " 15.87804878 20.24390244 26.06707317 31.2804878 ]\n",
            "------------\n",
            "Probability A overall wins a bet:  0.5541463414634147\n",
            "A's expected utility 7.31219268292683\n",
            "A's bid winning probability per value:  [0.00853658536585366, 0.16219512195121952, 0.2939024390243902, 0.42073170731707316, 0.55, 0.6695121951219513, 0.7987804878048781, 0.8597560975609756, 0.8621951219512195, 0.9158536585365854]\n",
            "A's expected utility per value:  [ 0.08528049  1.62032927  2.93608537  4.20310976  5.4945      6.68842683\n",
            "  7.97981707  8.58896341 17.22665854 18.2987561 ]\n"
          ]
        }
      ]
    },
    {
      "cell_type": "markdown",
      "source": [
        "Calculating probabilities with Monte-Carlo"
      ],
      "metadata": {
        "id": "Rpj_JXEItqFL"
      }
    },
    {
      "cell_type": "code",
      "source": [
        "c_bids = np.array([5, 10, 15, 20, 25, 30, 35, 40, 45, 50])\n",
        "a_bids = np.array([0.01, 10.01, 20.01, 30.01, 40.01, 50.01, 60.01, 70.01, 70.02, 80.02])\n",
        "test_bids = [0 for i in range(10)]\n",
        "# run_auction takes in a number of auctions to run and a player\n",
        "# then outputs the calculated percentage of auctions won and\n",
        "# the average utility over these auctions\n",
        "def run_auction(n, p, x=None, i=None):\n",
        "  if p == 'c':\n",
        "    df_s = df_c\n",
        "    own_bids = c_bids\n",
        "  if p == 'a':\n",
        "    df_s = df_a\n",
        "    own_bids = a_bids\n",
        "  if p == 'test':\n",
        "    # this other \"player\" is used while optimizing later: it simulates an auction\n",
        "    # with the only bid being x given value i. this way we can calculate\n",
        "    # maximum expectation componentwise\n",
        "    df_s = df\n",
        "    own_bids = test_bids\n",
        "    own_bids[i] = x\n",
        "\n",
        "  wins = 0\n",
        "  utility = 0\n",
        "  auctions = 0\n",
        "  utility_index_i = np.array([0 for i in range(10)])\n",
        "  auctions_index_i = np.array([0 for i in range(10)])\n",
        "  wins_index_i = np.array([0 for i in range(10)])\n",
        "\n",
        "  # looping over each possible value [1,..,10] (in other words [10, ..., 100])\n",
        "  for i in range(n):\n",
        "    # generating a random value for self\n",
        "    self_rn = random.randrange(0,10)\n",
        "    self_value = (self_rn+1)*10\n",
        "    self_bid = own_bids[self_rn]\n",
        "\n",
        "\n",
        "    # generating a random value for other student\n",
        "    # then selecting this student with sample()\n",
        "    other_rn = random.randrange(0,10)\n",
        "    other_value = (other_rn+1) * 10\n",
        "    random_bid_given_value = df_c.sample()\n",
        "    other_bid = random_bid_given_value.iat[0,other_rn]\n",
        "\n",
        "\n",
        "    # generating random value for coin\n",
        "    coin = random.randrange(0,101) % 2\n",
        "    \n",
        "    # the below increments stats given the results of the simulated\n",
        "    # auction. if a bid is tied it uses a coin RV to update the \n",
        "    # counts\n",
        "    auctions += 1\n",
        "    auctions_index_i[self_rn] += 1\n",
        "\n",
        "    if self_bid > other_bid:\n",
        "      wins += 1\n",
        "      wins_index_i[self_rn] += 1\n",
        "\n",
        "      utility += (self_value - self_bid)\n",
        "      utility_index_i[self_rn] += (self_value - self_bid)\n",
        "    \n",
        "    if self_bid == other_bid:\n",
        "      if coin == 1:\n",
        "        wins += 1\n",
        "        wins_index_i[self_rn] += 1\n",
        "\n",
        "        utility += (self_value - self_bid)\n",
        "        utility_index_i[self_rn] += (self_value - self_bid)\n",
        "\n",
        "  return wins / auctions, utility / auctions, np.divide(wins_index_i, auctions_index_i), np.divide(utility_index_i, auctions_index_i)\n",
        "\n",
        "c_win_percent, c_avg_utility, c_win_percent_indices, c_avg_utility_indices = run_auction(n, 'c')\n",
        "a_win_percent, a_avg_utility, a_win_percent_indices, a_avg_utility_indices = run_auction(n, 'a')\n",
        "print(\"C's simulated win % with \", n, \" auctions: \", c_win_percent)\n",
        "print(\"C's simulated average utility with \", n, \" auctions: \", c_avg_utility)\n",
        "print(\"C's bid winning probability per value: \", c_win_percent_indices)\n",
        "print(\"C's expected utility per value: \", c_avg_utility_indices)\n",
        "print(\"------\")\n",
        "print(\"A's simulated win % with \", n, \" auctions: \", a_win_percent)\n",
        "print(\"A's simulated average utility with \", n, \" auctions: \", a_avg_utility)\n",
        "print(\"A's bid winning probability per value with\", n, \"auctions: \", a_win_percent_indices)\n",
        "print(\"A's expected utility per value with \", n, \"auctions: \", a_avg_utility_indices)"
      ],
      "metadata": {
        "colab": {
          "base_uri": "https://localhost:8080/"
        },
        "id": "wSpTJWWYtr9w",
        "outputId": "60ef4e0d-2e9b-4c14-e9d9-c0fc99379a73"
      },
      "execution_count": 231,
      "outputs": [
        {
          "output_type": "stream",
          "name": "stdout",
          "text": [
            "C's simulated win % with  1000  auctions:  0.348\n",
            "C's simulated average utility with  1000  auctions:  12.48\n",
            "C's bid winning probability per value:  [0.02061856 0.06521739 0.22222222 0.23762376 0.38383838 0.45918367\n",
            " 0.40625    0.44660194 0.47413793 0.67592593]\n",
            "C's expected utility per value:  [ 0.10309278  0.65217391  3.33333333  4.75247525  9.5959596  13.7755102\n",
            " 14.21875    17.86407767 21.3362069  33.7962963 ]\n",
            "------\n",
            "A's simulated win % with  1000  auctions:  0.558\n",
            "A's simulated average utility with  1000  auctions:  7.2527399999999105\n",
            "A's bid winning probability per value with 1000 auctions:  [0.00840336 0.21698113 0.3627451  0.43396226 0.69512195 0.625\n",
            " 0.7979798  0.86792453 0.81052632 0.93814433]\n",
            "A's expected utility per value with  1000 auctions:  [ 0.07563025  1.95283019  3.26470588  3.90566038  6.25609756  5.625\n",
            "  7.18181818  7.81132075 15.4        17.82474227]\n"
          ]
        }
      ]
    },
    {
      "cell_type": "markdown",
      "source": [
        "Error bounds"
      ],
      "metadata": {
        "id": "6aLuS_my_q7_"
      }
    },
    {
      "cell_type": "code",
      "source": [
        "print(\"DIFFERENCES BETWEEN SIMULATED AND CALCULATED STATISTICS: \")\n",
        "print(\"C's agregate probability difference: \", np.abs(c_win_percent - prob_win_c))\n",
        "print(\"C's agregate expected utility difference: \", np.abs(c_avg_utility - utility_c))\n",
        "print(\"C's componentwise probability difference: \", np.abs(prob_arr_c - c_win_percent_indices))\n",
        "print(\"C's componentwise expected utility difference: \", np.abs(utility_per_value_c - c_avg_utility_indices))\n",
        "print(\"-------\")\n",
        "print(\"A's agregate probability difference: \", np.abs(a_win_percent - prob_win_a))\n",
        "print(\"A's agregate expected utility difference: \", np.abs(a_avg_utility - utility_a))\n",
        "print(\"A's componentwise probability difference: \", np.abs(prob_arr_a - a_win_percent_indices))\n",
        "print(\"A's componentwise expected utility difference: \", np.abs(utility_per_value_a - a_avg_utility_indices))"
      ],
      "metadata": {
        "colab": {
          "base_uri": "https://localhost:8080/"
        },
        "id": "Az2w4pnW_tbe",
        "outputId": "2776afa1-220a-4d4c-c539-58250b2df55a"
      },
      "execution_count": 232,
      "outputs": [
        {
          "output_type": "stream",
          "name": "stdout",
          "text": [
            "DIFFERENCES BETWEEN SIMULATED AND CALCULATED STATISTICS: \n",
            "C's agregate probability difference:  0.00153658536585366\n",
            "C's agregate expected utility difference:  0.23914634146341562\n",
            "C's componentwise probability difference:  [0.0049912  0.04453871 0.0197832  0.01725429 0.0557896  0.07991538\n",
            " 0.04740854 0.05949562 0.10513036 0.05031617]\n",
            "C's componentwise expected utility difference:  [0.024956   0.44538706 0.29674797 0.34508573 1.39474008 2.39746142\n",
            " 1.65929878 2.37982477 4.73086627 2.51580849]\n",
            "-------\n",
            "A's agregate probability difference:  0.0038536585365853693\n",
            "A's agregate expected utility difference:  0.05945268292691974\n",
            "A's componentwise probability difference:  [1.33224021e-04 5.47860101e-02 6.88426590e-02 1.32305568e-02\n",
            " 1.45121951e-01 4.45121951e-02 8.00689825e-04 8.16843074e-03\n",
            " 5.16688062e-02 2.22906714e-02]\n",
            "A's componentwise expected utility difference:  [0.00965024 0.33250092 0.32862052 0.29744938 0.76159756 1.06342683\n",
            " 0.79799889 0.77764266 1.82665854 0.47401383]\n"
          ]
        }
      ]
    },
    {
      "cell_type": "markdown",
      "source": [
        "Finding optimal bid to maximize utility"
      ],
      "metadata": {
        "id": "N5CAoakFl45o"
      }
    },
    {
      "cell_type": "code",
      "source": [
        "epsilon = 0.00001\n",
        "\n",
        "def utility_coord_i(x, i, sample=None):\n",
        "  if sample is not None:\n",
        "    return calculate_prob_and_utility('test', x, i, sample)[1]\n",
        "  return calculate_prob_and_utility('test', x, i)[1]\n",
        "\n",
        "def utility_monte_carlo_coord_i(x, i, n):\n",
        "  return run_auction(n, 'test', x, i)[1]\n",
        "\n",
        "def optimal_bid_one_index(index, df_g=None):\n",
        "  utilities = []\n",
        "  if df_g is not None:\n",
        "    df_s = df_g\n",
        "    values_arrays = df_s.to_numpy()\n",
        "    all_values = np.sort(np.unique(np.concatenate(values_arrays)))\n",
        "  else:\n",
        "    values_arrays = df.to_numpy()\n",
        "    all_values = np.sort(np.unique(np.concatenate(values_arrays)))\n",
        "  for val in all_values:\n",
        "    if (index+1) * 10 < val:\n",
        "      if not utilities:\n",
        "        utilities.append([0,0])\n",
        "      break\n",
        "    if df_g is not None:\n",
        "      utilities.append([val, utility_coord_i(val,index, df_g)*10])\n",
        "      utilities.append([val + epsilon, utility_coord_i(val + epsilon,index, df_g)*10])\n",
        "    else:\n",
        "      utilities.append([val, utility_coord_i(val,index)*10])\n",
        "      utilities.append([val + epsilon, utility_coord_i(val + epsilon,index)*10])\n",
        "  return max(utilities, key= lambda x: x[1])\n",
        "\n",
        "def monte_carlo_bid_one_index(index):\n",
        "  utilities = []\n",
        "  values_arrays = df.to_numpy()\n",
        "  all_values = np.sort(np.unique(np.concatenate(values_arrays)))\n",
        "  for val in all_values:\n",
        "    if (index+1) * 10 < val:\n",
        "      break\n",
        "    utilities.append([val, utility_monte_carlo_coord_i(val,index, n)])\n",
        "    utilities.append([val + epsilon, utility_monte_carlo_coord_i(val + epsilon,index, n)])\n",
        "  return max(utilities, key= lambda x: x[1])\n"
      ],
      "metadata": {
        "id": "lWpOWrwrmDbU"
      },
      "execution_count": 233,
      "outputs": []
    },
    {
      "cell_type": "code",
      "source": [
        "best_utilities_arr = np.array([optimal_bid_one_index(i) for i in range(10)])\n",
        "optimal = sum(j for i,j in best_utilities_arr)\n",
        "print(\"The best bids and expected utilities for each are given in the following \",\n",
        "      \"array of the form [bid, expected utility].\")\n",
        "print(best_utilities_arr)\n",
        "print(\"By linearity of expectation we can sum over these and find that our\",\n",
        "      \"optimal aggregate expected utility is: \", optimal/10)\n",
        "\n",
        "best_monte_carlo_utilities_arr = np.array([monte_carlo_bid_one_index(i) for i in range(10)])\n",
        "mc_optimal = sum(j for i,j in best_monte_carlo_utilities_arr)\n",
        "print(\"The best bids and expected utilities via Monte Carlo for each are given in the following \",\n",
        "      \"array of the form [bid, expected utility].\")\n",
        "print(best_monte_carlo_utilities_arr)\n",
        "print(\"By linearity of expectation we can sum over these and find that our\",\n",
        "      \"optimal aggregate expected utility is: \", mc_optimal)"
      ],
      "metadata": {
        "colab": {
          "base_uri": "https://localhost:8080/"
        },
        "id": "rBK2osMMOtPH",
        "outputId": "72b8e165-5f17-4a33-ad80-7c4288b0e800"
      },
      "execution_count": 234,
      "outputs": [
        {
          "output_type": "stream",
          "name": "stdout",
          "text": [
            "The best bids and expected utilities for each are given in the following  array of the form [bid, expected utility].\n",
            "[[ 5.00001     0.84523769]\n",
            " [11.00001     2.33332988]\n",
            " [11.00001     4.20237464]\n",
            " [21.00001     6.59760733]\n",
            " [21.00001     9.72855431]\n",
            " [31.00001    13.31664169]\n",
            " [31.00001    17.68568143]\n",
            " [41.00001    22.60471926]\n",
            " [41.00001    28.23566257]\n",
            " [51.00001    33.9499375 ]]\n",
            "By linearity of expectation we can sum over these and find that our optimal aggregate expected utility is:  13.949974630952374\n",
            "The best bids and expected utilities via Monte Carlo for each are given in the following  array of the form [bid, expected utility].\n",
            "[[5.00001000e+00 3.99937200e-02]\n",
            " [1.00000100e+01 2.29993650e-01]\n",
            " [1.00100100e+01 5.79703760e-01]\n",
            " [1.50000100e+01 7.49993810e-01]\n",
            " [2.82000100e+01 1.15539354e+00]\n",
            " [3.00100100e+01 1.61945340e+00]\n",
            " [4.10000100e+01 2.29099366e+00]\n",
            " [3.60000000e+01 2.68399449e+00]\n",
            " [3.50000100e+01 3.62999374e+00]\n",
            " [4.99000000e+01 4.05809453e+00]]\n",
            "By linearity of expectation we can sum over these and find that our optimal aggregate expected utility is:  1.7037608299999902\n"
          ]
        }
      ]
    },
    {
      "cell_type": "markdown",
      "source": [
        "Error with simulated"
      ],
      "metadata": {
        "id": "0P50Fk84i6S9"
      }
    },
    {
      "cell_type": "code",
      "source": [
        "best_monte_carlo_utilities_arr - best_utilities_arr"
      ],
      "metadata": {
        "id": "PCHScjdjpYic",
        "colab": {
          "base_uri": "https://localhost:8080/"
        },
        "outputId": "36fb79f6-0508-4d91-ba41-c281ca1e6240"
      },
      "execution_count": 238,
      "outputs": [
        {
          "output_type": "execute_result",
          "data": {
            "text/plain": [
              "array([[  0.        ,  -0.80524397],\n",
              "       [ -1.        ,  -2.10333623],\n",
              "       [ -0.99      ,  -3.62267088],\n",
              "       [ -6.        ,  -5.84761352],\n",
              "       [  7.2       ,  -8.57316077],\n",
              "       [ -0.99      , -11.69718829],\n",
              "       [ 10.        , -15.39468777],\n",
              "       [ -5.00001   , -19.92072477],\n",
              "       [ -6.        , -24.60566883],\n",
              "       [ -1.10001   , -29.89184297]])"
            ]
          },
          "metadata": {},
          "execution_count": 238
        }
      ]
    },
    {
      "cell_type": "markdown",
      "source": [
        "Algorithm"
      ],
      "metadata": {
        "id": "q2Qfv7hJUWHN"
      }
    },
    {
      "cell_type": "code",
      "source": [
        "def find_optimal_bid(n):\n",
        "  if n > len(df):\n",
        "    n = len(df)\n",
        "  df_sample = df.sample(n)\n",
        "  # this simply calculates the optimal bid, as done above, but given\n",
        "  # only a select n number of bids from the original dataset\n",
        "  # (can be adapted to input custom bids, but functions equivalently by\n",
        "  # picking this random sample. this is also easier to test using monte-carlo)\n",
        "  return np.array([optimal_bid_one_index(i, df_sample)[0] for i in range(10)])\n",
        "\n",
        "find_optimal_bid(1)"
      ],
      "metadata": {
        "id": "eYaXCnHAUg02",
        "colab": {
          "base_uri": "https://localhost:8080/"
        },
        "outputId": "1a4c5966-3040-49ef-9873-7fbd84cca775"
      },
      "execution_count": 236,
      "outputs": [
        {
          "output_type": "execute_result",
          "data": {
            "text/plain": [
              "array([1.100000e-04, 1.000011e+01, 1.000011e+01, 2.000011e+01,\n",
              "       2.000011e+01, 3.000011e+01, 3.000011e+01, 4.000011e+01,\n",
              "       4.000011e+01, 5.000011e+01])"
            ]
          },
          "metadata": {},
          "execution_count": 236
        }
      ]
    },
    {
      "cell_type": "markdown",
      "source": [
        "Monte Carlo on Algorithm"
      ],
      "metadata": {
        "id": "t2SGTNjATJ8d"
      }
    },
    {
      "cell_type": "code",
      "source": [
        "def monte_carlo_algorithm(N, s):\n",
        "  # N: number of times to run monte-carlo\n",
        "  # s: sample size\n",
        "  agg_utility = 0\n",
        "  for i in range(s):\n",
        "    bids = find_optimal_bid(s)\n",
        "    compared_to_real = calculate_prob_and_utility('algorithm-monte-carlo', mc_bids = bids)\n",
        "    agg_utility += compared_to_real[1]\n",
        "  return agg_utility/s\n",
        "\n",
        "one_sample_average_utility = monte_carlo_algorithm(n, 1)\n",
        "ten_sample_average_utility = monte_carlo_algorithm(n, 10)\n",
        "full_sample_average_utility = monte_carlo_algorithm(n, 100)\n",
        "\n",
        "print(\"given \", n, \"samples:\")\n",
        "print(\"when N=1 is given, our algorithm has average utility \", one_sample_average_utility)\n",
        "print(\"when N=10 is given, our algorithm has average utility \", ten_sample_average_utility)\n",
        "print(\"when N=FULL SET is given, our algorithm has average utility \", full_sample_average_utility)"
      ],
      "metadata": {
        "colab": {
          "base_uri": "https://localhost:8080/"
        },
        "id": "QOMaOIl5MzGZ",
        "outputId": "379c3a78-0586-4c23-89d5-4a0e2f7731b5"
      },
      "execution_count": 237,
      "outputs": [
        {
          "output_type": "stream",
          "name": "stdout",
          "text": [
            "given  1000 samples:\n",
            "when N=1 is given, our algorithm has average utility  12.976186869047618\n",
            "when N=10 is given, our algorithm has average utility  13.527770038571429\n",
            "when N=FULL SET is given, our algorithm has average utility  13.557139066666656\n"
          ]
        }
      ]
    },
    {
      "cell_type": "code",
      "source": [],
      "metadata": {
        "id": "oZ0WJNMqfLI8"
      },
      "execution_count": 237,
      "outputs": []
    }
  ]
}